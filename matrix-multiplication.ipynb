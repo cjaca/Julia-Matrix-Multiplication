{
 "cells": [
  {
   "cell_type": "code",
   "execution_count": 11,
   "metadata": {},
   "outputs": [
    {
     "data": {
      "text/plain": [
       "(4, 3)"
      ]
     },
     "execution_count": 11,
     "metadata": {},
     "output_type": "execute_result"
    }
   ],
   "source": [
    "A = Float32[[5.2 6.4 3.7 1.4]; [4.9 6.2 8.4 1.1];] \n",
    "B = Float32[[1 2 3]; [3 4 3]; [3 6 2];[7 1 9]]\n",
    "sizeA = size(A) \n",
    "sizeB = size(B)"
   ]
  },
  {
   "cell_type": "code",
   "execution_count": 10,
   "metadata": {},
   "outputs": [
    {
     "name": "stdout",
     "output_type": "stream",
     "text": [
      "45.3 | 59.600002 | 54.8 | \n",
      "56.399998 | 86.1 | 60.0 | \n"
     ]
    }
   ],
   "source": [
    "using LinearAlgebra \n",
    "if sizeA[2] == sizeB[1] \n",
    "C = zeros(Float32, sizeA[1], sizeB[2])\n",
    "sizeC = size(C) \n",
    "    for i in 1:sizeA[1] \n",
    "        for j in 1:sizeB[2]\n",
    "            suma = 0 \n",
    "            for k in 1:sizeA[2] \n",
    "                suma = suma + A[i,k]*B[k,j] \n",
    "            end \n",
    "            C[i,j]=suma \n",
    "        end \n",
    "    end \n",
    "for x in 1:sizeC[1] \n",
    "    for y in 1:sizeC[2]\n",
    "        print(C[x,y],\" | \") \n",
    "    end \n",
    "    println(\"\") \n",
    "end\n",
    "    else \n",
    "    if sizeA[2] > sizeB[1]\n",
    "        println(\"Error. Number of columns in first matrix is greater than number of rows in second matrix.\")\n",
    "    else\n",
    "        println(\"Error. Number of rows in second matrix is greater than number of columns in first matrix.\")\n",
    "    end\n",
    "end\n"
   ]
  },
  {
   "cell_type": "code",
   "execution_count": null,
   "metadata": {},
   "outputs": [],
   "source": []
  }
 ],
 "metadata": {
  "kernelspec": {
   "display_name": "Julia 1.0.2",
   "language": "julia",
   "name": "julia-1.0"
  },
  "language_info": {
   "file_extension": ".jl",
   "mimetype": "application/julia",
   "name": "julia",
   "version": "1.0.2"
  }
 },
 "nbformat": 4,
 "nbformat_minor": 2
}
